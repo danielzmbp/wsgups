{
 "cells": [
  {
   "cell_type": "markdown",
   "metadata": {},
   "source": [
    "## Homology groups OGOB study\n",
    "Use this groups to create protein families than can be alined and tested for positive selection later."
   ]
  },
  {
   "cell_type": "code",
   "execution_count": 1,
   "metadata": {},
   "outputs": [],
   "source": [
    "import pandas as pd\n",
    "import numpy as np\n",
    "from Bio import SeqIO\n",
    "from Bio.Alphabet import IUPAC"
   ]
  },
  {
   "cell_type": "code",
   "execution_count": 2,
   "metadata": {},
   "outputs": [],
   "source": [
    "pillars = pd.read_csv(\"fungi.poff.tsv\",\"\\t\")"
   ]
  },
  {
   "cell_type": "code",
   "execution_count": 3,
   "metadata": {},
   "outputs": [
    {
     "data": {
      "text/plain": [
       "(20243, 24)"
      ]
     },
     "execution_count": 3,
     "metadata": {},
     "output_type": "execute_result"
    }
   ],
   "source": [
    "pillars.shape"
   ]
  },
  {
   "cell_type": "code",
   "execution_count": 4,
   "metadata": {},
   "outputs": [],
   "source": [
    "pillars=pillars.replace(\"*\",np.nan)"
   ]
  },
  {
   "cell_type": "code",
   "execution_count": 5,
   "metadata": {},
   "outputs": [],
   "source": [
    "pillars = pillars.iloc[:,3:]"
   ]
  },
  {
   "cell_type": "code",
   "execution_count": 6,
   "metadata": {},
   "outputs": [],
   "source": [
    "pillars[\"count\"] = pillars.count(1)"
   ]
  },
  {
   "cell_type": "code",
   "execution_count": 7,
   "metadata": {},
   "outputs": [
    {
     "data": {
      "text/plain": [
       "<matplotlib.axes._subplots.AxesSubplot at 0x114c61090>"
      ]
     },
     "execution_count": 7,
     "metadata": {},
     "output_type": "execute_result"
    },
    {
     "data": {
      "image/png": "[encoded data removed]",
      "text/plain": [
       "<Figure size 432x288 with 1 Axes>"
      ]
     },
     "metadata": {
      "image/png": {
       "height": 248,
       "width": 390
      },
      "needs_background": "light"
     },
     "output_type": "display_data"
    }
   ],
   "source": [
    "pillars[\"count\"].plot()"
   ]
  },
  {
   "cell_type": "code",
   "execution_count": 8,
   "metadata": {},
   "outputs": [
    {
     "data": {
      "text/plain": [
       "(6766, 22)"
      ]
     },
     "execution_count": 8,
     "metadata": {},
     "output_type": "execute_result"
    }
   ],
   "source": [
    "pillars[pillars[\"count\"]>4].shape"
   ]
  },
  {
   "cell_type": "code",
   "execution_count": 9,
   "metadata": {},
   "outputs": [],
   "source": [
    "aa_all = SeqIO.index(\"AA.faa\", \"fasta\", IUPAC.protein)\n",
    "na_all = SeqIO.index(\"NT.fna\", \"fasta\", IUPAC.ambiguous_dna)"
   ]
  },
  {
   "cell_type": "code",
   "execution_count": 10,
   "metadata": {},
   "outputs": [
    {
     "data": {
      "text/plain": [
       "Cryptococcus_gattii.faa               KIR58755.1\n",
       "Cryptococcus_neoformans.faa       XP_012047457.1\n",
       "Fomitiporia_mediterranea.faa      XP_007262728.1\n",
       "Malassezia_globosa.faa            XP_001730234.1\n",
       "Malassezia_restricta.faa          XP_027483169.1\n",
       "Malassezia_sympodialis.faa        XP_018738865.1\n",
       "Melampsora_larici-populina.faa    XP_007412705.1\n",
       "Mixia_osmundae.faa                           NaN\n",
       "Moniliophthora_roreri.faa             KTB30753.1\n",
       "Paxillus_involutus.faa                KIJ08088.1\n",
       "Piloderma_croceum.faa                 KIM85000.1\n",
       "Puccinia_striiformis.faa              POW13151.1\n",
       "Puccinia_triticina.faa                OAV97601.1\n",
       "Rhizoctonia_solani.faa                       NaN\n",
       "Rhodotorula_toruloides.faa        XP_016277086.1\n",
       "Serendipita_indica.faa                CCA71897.1\n",
       "Sporisorium_reilianum.faa             SJX64283.1\n",
       "Trichosporon_asahii.faa           XP_014181756.1\n",
       "Ustilago_bromivora.faa                SAM84692.1\n",
       "Ustilago_hordei.faa                   CCF48870.1\n",
       "Name: 10, dtype: object"
      ]
     },
     "execution_count": 10,
     "metadata": {},
     "output_type": "execute_result"
    }
   ],
   "source": [
    "pillars[pillars[\"count\"]>4].loc[10][0:20]"
   ]
  },
  {
   "cell_type": "code",
   "execution_count": 11,
   "metadata": {},
   "outputs": [],
   "source": [
    "pillars[\"family\"] = pillars.index"
   ]
  },
  {
   "cell_type": "code",
   "execution_count": 12,
   "metadata": {},
   "outputs": [],
   "source": [
    "melted = pillars.melt([\"family\", \"count\"])"
   ]
  },
  {
   "cell_type": "code",
   "execution_count": 13,
   "metadata": {},
   "outputs": [],
   "source": [
    "melted[melted[\"count\"]>4].dropna()[[\"family\",\"value\"]].to_csv(\"fam.txt\", \"\\t\", index=False, header=False) "
   ]
  },
  {
   "cell_type": "code",
   "execution_count": 14,
   "metadata": {},
   "outputs": [],
   "source": [
    "nonamel = melted.dropna()"
   ]
  },
  {
   "cell_type": "code",
   "execution_count": 15,
   "metadata": {},
   "outputs": [
    {
     "data": {
      "text/html": [
       "<div>\n",
       "<style scoped>\n",
       "    .dataframe tbody tr th:only-of-type {\n",
       "        vertical-align: middle;\n",
       "    }\n",
       "\n",
       "    .dataframe tbody tr th {\n",
       "        vertical-align: top;\n",
       "    }\n",
       "\n",
       "    .dataframe thead th {\n",
       "        text-align: right;\n",
       "    }\n",
       "</style>\n",
       "<table border=\"1\" class=\"dataframe\">\n",
       "  <thead>\n",
       "    <tr style=\"text-align: right;\">\n",
       "      <th></th>\n",
       "      <th>family</th>\n",
       "      <th>count</th>\n",
       "      <th>variable</th>\n",
       "      <th>value</th>\n",
       "    </tr>\n",
       "  </thead>\n",
       "  <tbody>\n",
       "    <tr>\n",
       "      <th>0</th>\n",
       "      <td>0</td>\n",
       "      <td>14</td>\n",
       "      <td>Cryptococcus_gattii.faa</td>\n",
       "      <td>KIR58276.1</td>\n",
       "    </tr>\n",
       "    <tr>\n",
       "      <th>1</th>\n",
       "      <td>1</td>\n",
       "      <td>18</td>\n",
       "      <td>Cryptococcus_gattii.faa</td>\n",
       "      <td>KIR67911.1</td>\n",
       "    </tr>\n",
       "    <tr>\n",
       "      <th>2</th>\n",
       "      <td>2</td>\n",
       "      <td>17</td>\n",
       "      <td>Cryptococcus_gattii.faa</td>\n",
       "      <td>KIR68592.1</td>\n",
       "    </tr>\n",
       "    <tr>\n",
       "      <th>4</th>\n",
       "      <td>4</td>\n",
       "      <td>15</td>\n",
       "      <td>Cryptococcus_gattii.faa</td>\n",
       "      <td>KIR59908.1</td>\n",
       "    </tr>\n",
       "    <tr>\n",
       "      <th>5</th>\n",
       "      <td>5</td>\n",
       "      <td>20</td>\n",
       "      <td>Cryptococcus_gattii.faa</td>\n",
       "      <td>KIR57646.1</td>\n",
       "    </tr>\n",
       "    <tr>\n",
       "      <th>...</th>\n",
       "      <td>...</td>\n",
       "      <td>...</td>\n",
       "      <td>...</td>\n",
       "      <td>...</td>\n",
       "    </tr>\n",
       "    <tr>\n",
       "      <th>425072</th>\n",
       "      <td>20212</td>\n",
       "      <td>5</td>\n",
       "      <td>Ustilago_maydis.faa</td>\n",
       "      <td>XP_011386124.1</td>\n",
       "    </tr>\n",
       "    <tr>\n",
       "      <th>425073</th>\n",
       "      <td>20213</td>\n",
       "      <td>6</td>\n",
       "      <td>Ustilago_maydis.faa</td>\n",
       "      <td>XP_011387802.1</td>\n",
       "    </tr>\n",
       "    <tr>\n",
       "      <th>425078</th>\n",
       "      <td>20218</td>\n",
       "      <td>15</td>\n",
       "      <td>Ustilago_maydis.faa</td>\n",
       "      <td>XP_011387919.1</td>\n",
       "    </tr>\n",
       "    <tr>\n",
       "      <th>425079</th>\n",
       "      <td>20219</td>\n",
       "      <td>12</td>\n",
       "      <td>Ustilago_maydis.faa</td>\n",
       "      <td>XP_011386703.1</td>\n",
       "    </tr>\n",
       "    <tr>\n",
       "      <th>425097</th>\n",
       "      <td>20237</td>\n",
       "      <td>9</td>\n",
       "      <td>Ustilago_maydis.faa</td>\n",
       "      <td>XP_011389075.1</td>\n",
       "    </tr>\n",
       "  </tbody>\n",
       "</table>\n",
       "<p>126838 rows × 4 columns</p>\n",
       "</div>"
      ],
      "text/plain": [
       "        family  count                 variable           value\n",
       "0            0     14  Cryptococcus_gattii.faa      KIR58276.1\n",
       "1            1     18  Cryptococcus_gattii.faa      KIR67911.1\n",
       "2            2     17  Cryptococcus_gattii.faa      KIR68592.1\n",
       "4            4     15  Cryptococcus_gattii.faa      KIR59908.1\n",
       "5            5     20  Cryptococcus_gattii.faa      KIR57646.1\n",
       "...        ...    ...                      ...             ...\n",
       "425072   20212      5      Ustilago_maydis.faa  XP_011386124.1\n",
       "425073   20213      6      Ustilago_maydis.faa  XP_011387802.1\n",
       "425078   20218     15      Ustilago_maydis.faa  XP_011387919.1\n",
       "425079   20219     12      Ustilago_maydis.faa  XP_011386703.1\n",
       "425097   20237      9      Ustilago_maydis.faa  XP_011389075.1\n",
       "\n",
       "[126838 rows x 4 columns]"
      ]
     },
     "execution_count": 15,
     "metadata": {},
     "output_type": "execute_result"
    }
   ],
   "source": [
    "nonamel"
   ]
  },
  {
   "cell_type": "markdown",
   "metadata": {},
   "source": [
    "Plot number of families with duplicated genes"
   ]
  },
  {
   "cell_type": "code",
   "execution_count": 16,
   "metadata": {},
   "outputs": [
    {
     "data": {
      "text/plain": [
       "<matplotlib.axes._subplots.AxesSubplot at 0x1016dc410>"
      ]
     },
     "execution_count": 16,
     "metadata": {},
     "output_type": "execute_result"
    },
    {
     "data": {
      "image/png": "[encoded data removed]",
      "text/plain": [
       "<Figure size 432x288 with 1 Axes>"
      ]
     },
     "metadata": {
      "image/png": {
       "height": 395,
       "width": 375
      },
      "needs_background": "light"
     },
     "output_type": "display_data"
    }
   ],
   "source": [
    "df=nonamel[nonamel[\"value\"].str.contains(\",\")]\n",
    "pd.value_counts(df['variable']).plot.bar()"
   ]
  },
  {
   "cell_type": "markdown",
   "metadata": {},
   "source": [
    "Assign a protein family based on index number, store each row in a separate file "
   ]
  },
  {
   "cell_type": "code",
   "execution_count": 17,
   "metadata": {},
   "outputs": [
    {
     "name": "stderr",
     "output_type": "stream",
     "text": [
      "/Users/danielgomezperez/miniconda3/lib/python3.7/site-packages/ipykernel_launcher.py:2: FutureWarning: The signature of `Series.to_csv` was aligned to that of `DataFrame.to_csv`, and argument 'header' will change its default value from False to True: please pass an explicit value to suppress this warning.\n",
      "  \n"
     ]
    }
   ],
   "source": [
    "for i in pillars[pillars[\"count\"]>4].index:\n",
    "    pillars[pillars[\"count\"]>4].loc[i].to_csv(\"family/family\" + str(i) + \".csv\")"
   ]
  },
  {
   "cell_type": "markdown",
   "metadata": {},
   "source": [
    "# Modify fam.txt to put duplications in the same family "
   ]
  },
  {
   "cell_type": "code",
   "execution_count": 18,
   "metadata": {},
   "outputs": [],
   "source": [
    "fam = pd.read_csv(\"fam.txt\", \"\\t\", header=None)"
   ]
  },
  {
   "cell_type": "code",
   "execution_count": 19,
   "metadata": {},
   "outputs": [
    {
     "data": {
      "text/html": [
       "<div>\n",
       "<style scoped>\n",
       "    .dataframe tbody tr th:only-of-type {\n",
       "        vertical-align: middle;\n",
       "    }\n",
       "\n",
       "    .dataframe tbody tr th {\n",
       "        vertical-align: top;\n",
       "    }\n",
       "\n",
       "    .dataframe thead th {\n",
       "        text-align: right;\n",
       "    }\n",
       "</style>\n",
       "<table border=\"1\" class=\"dataframe\">\n",
       "  <thead>\n",
       "    <tr style=\"text-align: right;\">\n",
       "      <th></th>\n",
       "      <th>0</th>\n",
       "      <th>1</th>\n",
       "    </tr>\n",
       "  </thead>\n",
       "  <tbody>\n",
       "    <tr>\n",
       "      <th>0</th>\n",
       "      <td>0</td>\n",
       "      <td>KIR58276.1</td>\n",
       "    </tr>\n",
       "    <tr>\n",
       "      <th>1</th>\n",
       "      <td>1</td>\n",
       "      <td>KIR67911.1</td>\n",
       "    </tr>\n",
       "    <tr>\n",
       "      <th>2</th>\n",
       "      <td>2</td>\n",
       "      <td>KIR68592.1</td>\n",
       "    </tr>\n",
       "    <tr>\n",
       "      <th>3</th>\n",
       "      <td>4</td>\n",
       "      <td>KIR59908.1</td>\n",
       "    </tr>\n",
       "    <tr>\n",
       "      <th>4</th>\n",
       "      <td>5</td>\n",
       "      <td>KIR57646.1</td>\n",
       "    </tr>\n",
       "    <tr>\n",
       "      <th>...</th>\n",
       "      <td>...</td>\n",
       "      <td>...</td>\n",
       "    </tr>\n",
       "    <tr>\n",
       "      <th>91545</th>\n",
       "      <td>20212</td>\n",
       "      <td>XP_011386124.1</td>\n",
       "    </tr>\n",
       "    <tr>\n",
       "      <th>91546</th>\n",
       "      <td>20213</td>\n",
       "      <td>XP_011387802.1</td>\n",
       "    </tr>\n",
       "    <tr>\n",
       "      <th>91547</th>\n",
       "      <td>20218</td>\n",
       "      <td>XP_011387919.1</td>\n",
       "    </tr>\n",
       "    <tr>\n",
       "      <th>91548</th>\n",
       "      <td>20219</td>\n",
       "      <td>XP_011386703.1</td>\n",
       "    </tr>\n",
       "    <tr>\n",
       "      <th>91549</th>\n",
       "      <td>20237</td>\n",
       "      <td>XP_011389075.1</td>\n",
       "    </tr>\n",
       "  </tbody>\n",
       "</table>\n",
       "<p>91550 rows × 2 columns</p>\n",
       "</div>"
      ],
      "text/plain": [
       "           0               1\n",
       "0          0      KIR58276.1\n",
       "1          1      KIR67911.1\n",
       "2          2      KIR68592.1\n",
       "3          4      KIR59908.1\n",
       "4          5      KIR57646.1\n",
       "...      ...             ...\n",
       "91545  20212  XP_011386124.1\n",
       "91546  20213  XP_011387802.1\n",
       "91547  20218  XP_011387919.1\n",
       "91548  20219  XP_011386703.1\n",
       "91549  20237  XP_011389075.1\n",
       "\n",
       "[91550 rows x 2 columns]"
      ]
     },
     "execution_count": 19,
     "metadata": {},
     "output_type": "execute_result"
    }
   ],
   "source": [
    "fam"
   ]
  },
  {
   "cell_type": "markdown",
   "metadata": {},
   "source": [
    "separate the second column by the comma."
   ]
  },
  {
   "cell_type": "code",
   "execution_count": 20,
   "metadata": {},
   "outputs": [],
   "source": [
    "fam_separated = fam[1].str.split(\",\",expand=True)"
   ]
  },
  {
   "cell_type": "markdown",
   "metadata": {},
   "source": [
    "merge the separated dataframe with the regular one so that I get the family names"
   ]
  },
  {
   "cell_type": "code",
   "execution_count": 21,
   "metadata": {},
   "outputs": [],
   "source": [
    "fam[1]= np.nan"
   ]
  },
  {
   "cell_type": "code",
   "execution_count": 22,
   "metadata": {},
   "outputs": [],
   "source": [
    "merged =fam.merge(fam_separated, left_index=True,right_index=True).melt(\"0_x\")"
   ]
  },
  {
   "cell_type": "markdown",
   "metadata": {},
   "source": [
    "replace none in dataframe"
   ]
  },
  {
   "cell_type": "code",
   "execution_count": 23,
   "metadata": {},
   "outputs": [],
   "source": [
    "merged.replace(to_replace=[None], value=np.nan, inplace=True)"
   ]
  },
  {
   "cell_type": "code",
   "execution_count": 24,
   "metadata": {},
   "outputs": [
    {
     "data": {
      "text/plain": [
       "False    92388\n",
       "Name: value, dtype: int64"
      ]
     },
     "execution_count": 24,
     "metadata": {},
     "output_type": "execute_result"
    }
   ],
   "source": [
    "merged[\"value\"].dropna().str.contains(\",\").value_counts()"
   ]
  },
  {
   "cell_type": "code",
   "execution_count": 25,
   "metadata": {},
   "outputs": [],
   "source": [
    "merged[[\"0_x\",\"value\"]].dropna().to_csv(\"fam_dup.txt\", \"\\t\", index=False, header=False) "
   ]
  },
  {
   "cell_type": "markdown",
   "metadata": {},
   "source": [
    "# Make files for the nucleotide sequences"
   ]
  },
  {
   "cell_type": "code",
   "execution_count": 26,
   "metadata": {},
   "outputs": [
    {
     "name": "stderr",
     "output_type": "stream",
     "text": [
      "/Users/danielgomezperez/miniconda3/lib/python3.7/site-packages/Bio/codonalign/__init__.py:27: BiopythonExperimentalWarning: Bio.codonalign is an experimental module which may undergo significant changes prior to its future official release.\n",
      "  BiopythonExperimentalWarning)\n"
     ]
    }
   ],
   "source": [
    "from Bio import SeqIO\n",
    "from Bio import codonalign\n",
    "from Bio import AlignIO\n",
    "from Bio.Alphabet import generic_dna\n",
    "from Bio.Alphabet import generic_protein"
   ]
  },
  {
   "cell_type": "code",
   "execution_count": 27,
   "metadata": {},
   "outputs": [],
   "source": [
    "node_file = \"fam_dup.txt\"\n",
    "na_file = \"NT.fna\""
   ]
  },
  {
   "cell_type": "code",
   "execution_count": 28,
   "metadata": {},
   "outputs": [],
   "source": [
    "famDict = {}\n",
    "with open(node_file) as f:\n",
    "        for line in f:\n",
    "            row = line.split()\n",
    "            if row[0] not in famDict:\n",
    "                famDict[row[0]] = [row[1]]\n",
    "            else:\n",
    "                famDict[row[0]].append(row[1])"
   ]
  },
  {
   "cell_type": "code",
   "execution_count": 29,
   "metadata": {},
   "outputs": [],
   "source": [
    "naseqDict = SeqIO.to_dict(SeqIO.parse(na_file, \"fasta\"))"
   ]
  },
  {
   "cell_type": "code",
   "execution_count": 30,
   "metadata": {},
   "outputs": [],
   "source": [
    "for i in famDict.keys():\n",
    "    file = \"families/family_\" + i + \".fna\"\n",
    "    with open(file, \"w\") as out:\n",
    "        for j in famDict[i]:\n",
    "            out.write('>' + j + '\\n')\n",
    "            out.write(str(naseqDict[j].seq) + '\\n')"
   ]
  },
  {
   "cell_type": "markdown",
   "metadata": {},
   "source": [
    "# Make files for the amino acid sequences"
   ]
  },
  {
   "cell_type": "code",
   "execution_count": 31,
   "metadata": {},
   "outputs": [],
   "source": [
    "from Bio import SeqIO\n",
    "from Bio import codonalign\n",
    "from Bio import AlignIO\n",
    "from Bio.Alphabet import generic_dna\n",
    "from Bio.Alphabet import generic_protein"
   ]
  },
  {
   "cell_type": "code",
   "execution_count": 32,
   "metadata": {},
   "outputs": [],
   "source": [
    "node_file = \"fam_dup.txt\"\n",
    "aa_file = \"AA.faa\""
   ]
  },
  {
   "cell_type": "code",
   "execution_count": 33,
   "metadata": {},
   "outputs": [],
   "source": [
    "famDict = {}\n",
    "with open(node_file) as f:\n",
    "        for line in f:\n",
    "            row = line.split()\n",
    "            if row[0] not in famDict:\n",
    "                famDict[row[0]] = [row[1]]\n",
    "            else:\n",
    "                famDict[row[0]].append(row[1])"
   ]
  },
  {
   "cell_type": "code",
   "execution_count": 34,
   "metadata": {},
   "outputs": [],
   "source": [
    "aaseqDict = SeqIO.to_dict(SeqIO.parse(aa_file, \"fasta\"))"
   ]
  },
  {
   "cell_type": "code",
   "execution_count": 35,
   "metadata": {},
   "outputs": [],
   "source": [
    "for i in famDict.keys():\n",
    "    file = \"families/family_\" + i + \".faa\"\n",
    "    with open(file, \"w\") as out:\n",
    "        for j in famDict[i]:\n",
    "            out.write('>' + j + '\\n')\n",
    "            out.write(str(aaseqDict[j].seq) + '\\n')"
   ]
  },
  {
   "cell_type": "code",
   "execution_count": null,
   "metadata": {},
   "outputs": [],
   "source": []
  }
 ],
 "metadata": {
  "kernelspec": {
   "display_name": "Python 3",
   "language": "python",
   "name": "python3"
  },
  "language_info": {
   "codemirror_mode": {
    "name": "ipython",
    "version": 3
   },
   "file_extension": ".py",
   "mimetype": "text/x-python",
   "name": "python",
   "nbconvert_exporter": "python",
   "pygments_lexer": "ipython3",
   "version": "3.7.5"
  }
 },
 "nbformat": 4,
 "nbformat_minor": 4
}
