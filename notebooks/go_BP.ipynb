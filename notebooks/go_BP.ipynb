{
 "cells": [
  {
   "cell_type": "code",
   "execution_count": 1,
   "metadata": {},
   "outputs": [
    {
     "name": "stderr",
     "output_type": "stream",
     "text": [
      "Loading required package: BiocGenerics\n",
      "Loading required package: parallel\n",
      "\n",
      "Attaching package: ‘BiocGenerics’\n",
      "\n",
      "The following objects are masked from ‘package:parallel’:\n",
      "\n",
      "    clusterApply, clusterApplyLB, clusterCall, clusterEvalQ,\n",
      "    clusterExport, clusterMap, parApply, parCapply, parLapply,\n",
      "    parLapplyLB, parRapply, parSapply, parSapplyLB\n",
      "\n",
      "The following objects are masked from ‘package:stats’:\n",
      "\n",
      "    IQR, mad, sd, var, xtabs\n",
      "\n",
      "The following objects are masked from ‘package:base’:\n",
      "\n",
      "    anyDuplicated, append, as.data.frame, basename, cbind, colnames,\n",
      "    dirname, do.call, duplicated, eval, evalq, Filter, Find, get, grep,\n",
      "    grepl, intersect, is.unsorted, lapply, Map, mapply, match, mget,\n",
      "    order, paste, pmax, pmax.int, pmin, pmin.int, Position, rank,\n",
      "    rbind, Reduce, rownames, sapply, setdiff, sort, table, tapply,\n",
      "    union, unique, unsplit, which, which.max, which.min\n",
      "\n",
      "Loading required package: graph\n",
      "Loading required package: Biobase\n",
      "Welcome to Bioconductor\n",
      "\n",
      "    Vignettes contain introductory material; view with\n",
      "    'browseVignettes()'. To cite Bioconductor, see\n",
      "    'citation(\"Biobase\")', and for packages 'citation(\"pkgname\")'.\n",
      "\n",
      "Loading required package: GO.db\n",
      "Loading required package: AnnotationDbi\n",
      "Loading required package: stats4\n",
      "Loading required package: IRanges\n",
      "Loading required package: S4Vectors\n",
      "\n",
      "Attaching package: ‘S4Vectors’\n",
      "\n",
      "The following object is masked from ‘package:base’:\n",
      "\n",
      "    expand.grid\n",
      "\n",
      "\n",
      "Loading required package: SparseM\n",
      "\n",
      "Attaching package: ‘SparseM’\n",
      "\n",
      "The following object is masked from ‘package:base’:\n",
      "\n",
      "    backsolve\n",
      "\n",
      "\n",
      "groupGOTerms: \tGOBPTerm, GOMFTerm, GOCCTerm environments built.\n",
      "\n",
      "Attaching package: ‘topGO’\n",
      "\n",
      "The following object is masked from ‘package:IRanges’:\n",
      "\n",
      "    members\n",
      "\n",
      "── \u001b[1mAttaching packages\u001b[22m ─────────────────────────────────────── tidyverse 1.2.1 ──\n",
      "\u001b[32m✔\u001b[39m \u001b[34mggplot2\u001b[39m 3.2.1     \u001b[32m✔\u001b[39m \u001b[34mpurrr  \u001b[39m 0.3.3\n",
      "\u001b[32m✔\u001b[39m \u001b[34mtibble \u001b[39m 2.1.3     \u001b[32m✔\u001b[39m \u001b[34mdplyr  \u001b[39m 0.8.3\n",
      "\u001b[32m✔\u001b[39m \u001b[34mtidyr  \u001b[39m 1.0.0     \u001b[32m✔\u001b[39m \u001b[34mstringr\u001b[39m 1.4.0\n",
      "\u001b[32m✔\u001b[39m \u001b[34mreadr  \u001b[39m 1.3.1     \u001b[32m✔\u001b[39m \u001b[34mforcats\u001b[39m 0.4.0\n",
      "── \u001b[1mConflicts\u001b[22m ────────────────────────────────────────── tidyverse_conflicts() ──\n",
      "\u001b[31m✖\u001b[39m \u001b[34mstringr\u001b[39m::\u001b[32mboundary()\u001b[39m masks \u001b[34mgraph\u001b[39m::boundary()\n",
      "\u001b[31m✖\u001b[39m \u001b[34mdplyr\u001b[39m::\u001b[32mcollapse()\u001b[39m   masks \u001b[34mIRanges\u001b[39m::collapse()\n",
      "\u001b[31m✖\u001b[39m \u001b[34mdplyr\u001b[39m::\u001b[32mcombine()\u001b[39m    masks \u001b[34mBiobase\u001b[39m::combine(), \u001b[34mBiocGenerics\u001b[39m::combine()\n",
      "\u001b[31m✖\u001b[39m \u001b[34mdplyr\u001b[39m::\u001b[32mdesc()\u001b[39m       masks \u001b[34mIRanges\u001b[39m::desc()\n",
      "\u001b[31m✖\u001b[39m \u001b[34mtidyr\u001b[39m::\u001b[32mexpand()\u001b[39m     masks \u001b[34mS4Vectors\u001b[39m::expand()\n",
      "\u001b[31m✖\u001b[39m \u001b[34mdplyr\u001b[39m::\u001b[32mfilter()\u001b[39m     masks \u001b[34mstats\u001b[39m::filter()\n",
      "\u001b[31m✖\u001b[39m \u001b[34mdplyr\u001b[39m::\u001b[32mfirst()\u001b[39m      masks \u001b[34mS4Vectors\u001b[39m::first()\n",
      "\u001b[31m✖\u001b[39m \u001b[34mdplyr\u001b[39m::\u001b[32mlag()\u001b[39m        masks \u001b[34mstats\u001b[39m::lag()\n",
      "\u001b[31m✖\u001b[39m \u001b[34mggplot2\u001b[39m::\u001b[32mPosition()\u001b[39m masks \u001b[34mBiocGenerics\u001b[39m::Position(), \u001b[34mbase\u001b[39m::Position()\n",
      "\u001b[31m✖\u001b[39m \u001b[34mpurrr\u001b[39m::\u001b[32mreduce()\u001b[39m     masks \u001b[34mIRanges\u001b[39m::reduce()\n",
      "\u001b[31m✖\u001b[39m \u001b[34mdplyr\u001b[39m::\u001b[32mrename()\u001b[39m     masks \u001b[34mS4Vectors\u001b[39m::rename()\n",
      "\u001b[31m✖\u001b[39m \u001b[34mdplyr\u001b[39m::\u001b[32mselect()\u001b[39m     masks \u001b[34mAnnotationDbi\u001b[39m::select()\n",
      "\u001b[31m✖\u001b[39m \u001b[34mdplyr\u001b[39m::\u001b[32mslice()\u001b[39m      masks \u001b[34mIRanges\u001b[39m::slice()\n"
     ]
    }
   ],
   "source": [
    "library(topGO)\n",
    "library(tidyverse)"
   ]
  },
  {
   "cell_type": "code",
   "execution_count": 2,
   "metadata": {},
   "outputs": [
    {
     "name": "stderr",
     "output_type": "stream",
     "text": [
      "Warning message:\n",
      "“Missing column names filled in: 'X1' [1]”Parsed with column specification:\n",
      "cols(\n",
      "  .default = col_character(),\n",
      "  X1 = \u001b[32mcol_double()\u001b[39m,\n",
      "  index = \u001b[32mcol_double()\u001b[39m,\n",
      "  length = \u001b[32mcol_double()\u001b[39m,\n",
      "  start = \u001b[32mcol_double()\u001b[39m,\n",
      "  stop = \u001b[32mcol_double()\u001b[39m,\n",
      "  status = \u001b[33mcol_logical()\u001b[39m\n",
      ")\n",
      "See spec(...) for full column specifications.\n"
     ]
    }
   ],
   "source": [
    "all_ann <- read_csv(\"all_ann.csv\")"
   ]
  },
  {
   "cell_type": "markdown",
   "metadata": {},
   "source": [
    "### Make association file following this structure\n",
    "\n",
    "`gene_ID<TAB>GO_ID1, GO_ID2, GO_ID3, ....`\n",
    " \n",
    "    "
   ]
  },
  {
   "cell_type": "code",
   "execution_count": 3,
   "metadata": {},
   "outputs": [
    {
     "name": "stdout",
     "output_type": "stream",
     "text": [
      "List of 6\n",
      " $ protein_accession: chr \"go\"\n",
      " $ XP_018740815_1   : chr [1:2] \"GO:0005887\" \"GO:0055085\"\n",
      " $ XP_018741507_1   : chr \"GO:0005515\"\n",
      " $ XP_018741507_1   : chr \"GO:0005515\"\n",
      " $ XP_018741507_1   : chr \"GO:0005515\"\n",
      " $ XP_018741507_1   : chr \"GO:0005515\"\n"
     ]
    }
   ],
   "source": [
    "geneID2GO <- readMappings(\"go_mapping.csv\")\n",
    "str(head(geneID2GO))"
   ]
  },
  {
   "cell_type": "code",
   "execution_count": 4,
   "metadata": {},
   "outputs": [],
   "source": [
    "GO2geneID <- inverseList(geneID2GO)"
   ]
  },
  {
   "cell_type": "code",
   "execution_count": 5,
   "metadata": {},
   "outputs": [
    {
     "name": "stdout",
     "output_type": "stream",
     "text": [
      "List of 6\n",
      " $ go        : chr \"protein_accession\"\n",
      " $ GO:0000001: chr [1:44] \"XP_018740907_1\" \"XP_018740907_1\" \"XP_018740907_1\" \"XP_018740907_1\" ...\n",
      " $ GO:0000002: chr [1:57] \"SJX65437_1\" \"SJX65437_1\" \"SJX64063_1\" \"XP_016272549_1\" ...\n",
      " $ GO:0000009: chr [1:22] \"SJX62846_1\" \"XP_016270873_1\" \"XP_014565336_1\" \"KIR69017_1\" ...\n",
      " $ GO:0000015: chr [1:248] \"XP_018738952_1\" \"XP_018738952_1\" \"XP_018738952_1\" \"XP_018738952_1\" ...\n",
      " $ GO:0000027: chr [1:71] \"XP_018740599_1\" \"XP_018741865_1\" \"SJX60355_1\" \"SJX65482_1\" ...\n"
     ]
    }
   ],
   "source": [
    "str(head(GO2geneID))"
   ]
  },
  {
   "cell_type": "markdown",
   "metadata": {},
   "source": [
    "Loop through files to get the names of the species"
   ]
  },
  {
   "cell_type": "code",
   "execution_count": 6,
   "metadata": {},
   "outputs": [],
   "source": [
    "taxa<-gsub(\"\\\\.faa$\",\"\", list.files(\"faas\",\"*.faa\"))"
   ]
  },
  {
   "cell_type": "code",
   "execution_count": 7,
   "metadata": {},
   "outputs": [
    {
     "data": {
      "text/html": [
       "<ol class=list-inline>\n",
       "\t<li>'Cryptococcus_gattii'</li>\n",
       "\t<li>'Cryptococcus_neoformans'</li>\n",
       "\t<li>'Fomitiporia_mediterranea'</li>\n",
       "\t<li>'Malassezia_globosa'</li>\n",
       "\t<li>'Malassezia_restricta'</li>\n",
       "\t<li>'Malassezia_sympodialis'</li>\n",
       "\t<li>'Melampsora_larici-populina'</li>\n",
       "\t<li>'Mixia_osmundae'</li>\n",
       "\t<li>'Moniliophthora_roreri'</li>\n",
       "\t<li>'Paxillus_involutus'</li>\n",
       "\t<li>'Piloderma_croceum'</li>\n",
       "\t<li>'Puccinia_striiformis'</li>\n",
       "\t<li>'Puccinia_triticina'</li>\n",
       "\t<li>'Rhizoctonia_solani'</li>\n",
       "\t<li>'Rhodotorula_toruloides'</li>\n",
       "\t<li>'Serendipita_indica'</li>\n",
       "\t<li>'Sporisorium_reilianum'</li>\n",
       "\t<li>'Trichosporon_asahii'</li>\n",
       "\t<li>'Ustilago_bromivora'</li>\n",
       "\t<li>'Ustilago_hordei'</li>\n",
       "\t<li>'Ustilago_maydis'</li>\n",
       "</ol>\n"
      ],
      "text/latex": [
       "\\begin{enumerate*}\n",
       "\\item 'Cryptococcus\\_gattii'\n",
       "\\item 'Cryptococcus\\_neoformans'\n",
       "\\item 'Fomitiporia\\_mediterranea'\n",
       "\\item 'Malassezia\\_globosa'\n",
       "\\item 'Malassezia\\_restricta'\n",
       "\\item 'Malassezia\\_sympodialis'\n",
       "\\item 'Melampsora\\_larici-populina'\n",
       "\\item 'Mixia\\_osmundae'\n",
       "\\item 'Moniliophthora\\_roreri'\n",
       "\\item 'Paxillus\\_involutus'\n",
       "\\item 'Piloderma\\_croceum'\n",
       "\\item 'Puccinia\\_striiformis'\n",
       "\\item 'Puccinia\\_triticina'\n",
       "\\item 'Rhizoctonia\\_solani'\n",
       "\\item 'Rhodotorula\\_toruloides'\n",
       "\\item 'Serendipita\\_indica'\n",
       "\\item 'Sporisorium\\_reilianum'\n",
       "\\item 'Trichosporon\\_asahii'\n",
       "\\item 'Ustilago\\_bromivora'\n",
       "\\item 'Ustilago\\_hordei'\n",
       "\\item 'Ustilago\\_maydis'\n",
       "\\end{enumerate*}\n"
      ],
      "text/markdown": [
       "1. 'Cryptococcus_gattii'\n",
       "2. 'Cryptococcus_neoformans'\n",
       "3. 'Fomitiporia_mediterranea'\n",
       "4. 'Malassezia_globosa'\n",
       "5. 'Malassezia_restricta'\n",
       "6. 'Malassezia_sympodialis'\n",
       "7. 'Melampsora_larici-populina'\n",
       "8. 'Mixia_osmundae'\n",
       "9. 'Moniliophthora_roreri'\n",
       "10. 'Paxillus_involutus'\n",
       "11. 'Piloderma_croceum'\n",
       "12. 'Puccinia_striiformis'\n",
       "13. 'Puccinia_triticina'\n",
       "14. 'Rhizoctonia_solani'\n",
       "15. 'Rhodotorula_toruloides'\n",
       "16. 'Serendipita_indica'\n",
       "17. 'Sporisorium_reilianum'\n",
       "18. 'Trichosporon_asahii'\n",
       "19. 'Ustilago_bromivora'\n",
       "20. 'Ustilago_hordei'\n",
       "21. 'Ustilago_maydis'\n",
       "\n",
       "\n"
      ],
      "text/plain": [
       " [1] \"Cryptococcus_gattii\"        \"Cryptococcus_neoformans\"   \n",
       " [3] \"Fomitiporia_mediterranea\"   \"Malassezia_globosa\"        \n",
       " [5] \"Malassezia_restricta\"       \"Malassezia_sympodialis\"    \n",
       " [7] \"Melampsora_larici-populina\" \"Mixia_osmundae\"            \n",
       " [9] \"Moniliophthora_roreri\"      \"Paxillus_involutus\"        \n",
       "[11] \"Piloderma_croceum\"          \"Puccinia_striiformis\"      \n",
       "[13] \"Puccinia_triticina\"         \"Rhizoctonia_solani\"        \n",
       "[15] \"Rhodotorula_toruloides\"     \"Serendipita_indica\"        \n",
       "[17] \"Sporisorium_reilianum\"      \"Trichosporon_asahii\"       \n",
       "[19] \"Ustilago_bromivora\"         \"Ustilago_hordei\"           \n",
       "[21] \"Ustilago_maydis\"           "
      ]
     },
     "metadata": {},
     "output_type": "display_data"
    }
   ],
   "source": [
    "taxa"
   ]
  },
  {
   "cell_type": "code",
   "execution_count": 9,
   "metadata": {},
   "outputs": [],
   "source": [
    "species_name <- 'Cryptococcus_gattii'"
   ]
  },
  {
   "cell_type": "code",
   "execution_count": 10,
   "metadata": {},
   "outputs": [],
   "source": [
    "all_achy <- all_ann %>%\n",
    "filter(family == species_name) %>%\n",
    "select(3)%>%\n",
    "distinct(protein_accession) %>%\n",
    "as.matrix %>%\n",
    "as.vector\n",
    "names(all_achy) <- all_achy"
   ]
  },
  {
   "cell_type": "code",
   "execution_count": 12,
   "metadata": {},
   "outputs": [],
   "source": [
    "sel_achy <- all_ann %>%\n",
    "filter(family == species_name) %>%\n",
    "filter(ps == \"yes\") %>%\n",
    "select(3) %>%\n",
    "as.matrix %>%\n",
    "as.vector"
   ]
  },
  {
   "cell_type": "code",
   "execution_count": 19,
   "metadata": {},
   "outputs": [
    {
     "name": "stderr",
     "output_type": "stream",
     "text": [
      "Warning message in cbind(parts$left, ellip_h, parts$right, deparse.level = 0L):\n",
      "“number of rows of result is not a multiple of vector length (arg 2)”Warning message in cbind(parts$left, ellip_h, parts$right, deparse.level = 0L):\n",
      "“number of rows of result is not a multiple of vector length (arg 2)”Warning message in cbind(parts$left, ellip_h, parts$right, deparse.level = 0L):\n",
      "“number of rows of result is not a multiple of vector length (arg 2)”"
     ]
    },
    {
     "data": {
      "text/html": [
       "<table>\n",
       "<caption>A spec_tbl_df: 0 × 21</caption>\n",
       "<thead>\n",
       "\t<tr><th scope=col>X1</th><th scope=col>index</th><th scope=col>protein_accession</th><th scope=col>md5</th><th scope=col>length</th><th scope=col>analysis</th><th scope=col>signature_accession</th><th scope=col>signature_description</th><th scope=col>start</th><th scope=col>stop</th><th scope=col>⋯</th><th scope=col>status</th><th scope=col>date</th><th scope=col>ip_accesion</th><th scope=col>ip_description</th><th scope=col>go</th><th scope=col>pathway</th><th scope=col>family</th><th scope=col>ps</th><th scope=col>dups</th><th scope=col>signal</th></tr>\n",
       "\t<tr><th scope=col>&lt;dbl&gt;</th><th scope=col>&lt;dbl&gt;</th><th scope=col>&lt;chr&gt;</th><th scope=col>&lt;chr&gt;</th><th scope=col>&lt;dbl&gt;</th><th scope=col>&lt;chr&gt;</th><th scope=col>&lt;chr&gt;</th><th scope=col>&lt;chr&gt;</th><th scope=col>&lt;dbl&gt;</th><th scope=col>&lt;dbl&gt;</th><th scope=col>⋯</th><th scope=col>&lt;lgl&gt;</th><th scope=col>&lt;chr&gt;</th><th scope=col>&lt;chr&gt;</th><th scope=col>&lt;chr&gt;</th><th scope=col>&lt;chr&gt;</th><th scope=col>&lt;chr&gt;</th><th scope=col>&lt;chr&gt;</th><th scope=col>&lt;chr&gt;</th><th scope=col>&lt;chr&gt;</th><th scope=col>&lt;chr&gt;</th></tr>\n",
       "</thead>\n",
       "<tbody>\n",
       "</tbody>\n",
       "</table>\n"
      ],
      "text/latex": [
       "A spec_tbl_df: 0 × 21\n",
       "\\begin{tabular}{r|lllllllllllllllllllll}\n",
       " X1 & index & protein\\_accession & md5 & length & analysis & signature\\_accession & signature\\_description & start & stop & score & status & date & ip\\_accesion & ip\\_description & go & pathway & family & ps & dups & signal\\\\\n",
       " <dbl> & <dbl> & <chr> & <chr> & <dbl> & <chr> & <chr> & <chr> & <dbl> & <dbl> & <chr> & <lgl> & <chr> & <chr> & <chr> & <chr> & <chr> & <chr> & <chr> & <chr> & <chr>\\\\\n",
       "\\hline\n",
       "\\end{tabular}\n"
      ],
      "text/markdown": [
       "\n",
       "A spec_tbl_df: 0 × 21\n",
       "\n",
       "| X1 &lt;dbl&gt; | index &lt;dbl&gt; | protein_accession &lt;chr&gt; | md5 &lt;chr&gt; | length &lt;dbl&gt; | analysis &lt;chr&gt; | signature_accession &lt;chr&gt; | signature_description &lt;chr&gt; | start &lt;dbl&gt; | stop &lt;dbl&gt; | ⋯ ⋯ | status &lt;lgl&gt; | date &lt;chr&gt; | ip_accesion &lt;chr&gt; | ip_description &lt;chr&gt; | go &lt;chr&gt; | pathway &lt;chr&gt; | family &lt;chr&gt; | ps &lt;chr&gt; | dups &lt;chr&gt; | signal &lt;chr&gt; |\n",
       "|---|---|---|---|---|---|---|---|---|---|---|---|---|---|---|---|---|---|---|---|---|\n",
       "\n"
      ],
      "text/plain": [
       "     X1 index protein_accession md5 length analysis signature_accession\n",
       "     signature_description start stop ⋯ status date ip_accesion ip_description\n",
       "     go pathway family ps dups signal"
      ]
     },
     "metadata": {},
     "output_type": "display_data"
    }
   ],
   "source": [
    "all_ann %>%\n",
    "filter(ps==\"yes\") %>%\n",
    "filter(family == \"Cryptococcus_gattii\")"
   ]
  },
  {
   "cell_type": "code",
   "execution_count": 8,
   "metadata": {},
   "outputs": [
    {
     "ename": "ERROR",
     "evalue": "Error in .local(.Object, ...): allGenes must be a factor with 2 levels\n",
     "output_type": "error",
     "traceback": [
      "Error in .local(.Object, ...): allGenes must be a factor with 2 levels\nTraceback:\n",
      "1. new(\"topGOdata\", description = \"achy without p-values\", ontology = \"BP\", \n .     allGenes = geneList, nodeSize = 5, annot = annFUN.gene2GO, \n .     gene2GO = geneID2GO)",
      "2. initialize(value, ...)",
      "3. initialize(value, ...)",
      "4. .local(.Object, ...)",
      "5. stop(\"allGenes must be a factor with 2 levels\")"
     ]
    }
   ],
   "source": [
    "result_list = list()\n",
    "\n",
    "for(species_name in taxa) {\n",
    "all_achy <- all_ann %>%\n",
    "filter(family == species_name) %>%\n",
    "select(3)%>%\n",
    "distinct(protein_accession) %>%\n",
    "as.matrix %>%\n",
    "as.vector\n",
    "names(all_achy) <- all_achy\n",
    "\n",
    "sel_achy <- all_ann %>%\n",
    "filter(family == species_name) %>%\n",
    "filter(ps == \"yes\") %>%\n",
    "select(3) %>%\n",
    "as.matrix %>%\n",
    "as.vector\n",
    "\n",
    "names(sel_achy) <- sel_achy\n",
    "geneList <- factor(as.integer (all_achy %in% sel_achy))\n",
    "names(geneList) <- all_achy \n",
    "\n",
    "achyGOdata <- new(\"topGOdata\",\n",
    "                    description = \"achy without p-values\", ontology = \"BP\",\n",
    "                    a = geneList,\n",
    "                    nodeSize = 5,\n",
    "                    annot = annFUN.gene2GO, gene2GO = geneID2GO)\n",
    "test.ks <- new(\"classicScore\", testStatistic = GOKSTest, name = \"KS tests\")\n",
    "achyKS <- getSigGroups(achyGOdata, test.ks)\n",
    "test.elim <- new(\"elimScore\", testStatistic = GOKSTest, name = \"Fisher test\", cutOff = 0.01)\n",
    "\n",
    "achyElim <- getSigGroups(achyGOdata, test.elim)\n",
    "test.weight <- new(\"weightCount\", testStatistic = GOFisherTest, name = \"Fisher test\", sigRatio = \"ratio\")\n",
    "\n",
    "achyWeight <- getSigGroups(achyGOdata, test.weight)\n",
    "\n",
    "achyFis <- runTest(achyGOdata, algorithm = \"weight01\", statistic = \"fisher\")\n",
    "\n",
    "achyRes <- GenTable(achyGOdata, classic = achyFis, KS = achyKS, weight = achyWeight,                    \n",
    "                   orderBy = \"weight\", ranksOf = \"classic\", topNodes = 50)\n",
    "achyRes$genes <- sapply(achyRes$GO.ID, function(x)\n",
    "    {\n",
    "      genes<-genesInTerm(achyGOdata, x) \n",
    "      genes[[1]][genes[[1]] %in% sel_achy]\n",
    "    })\n",
    "result_list[[species_name]] = achyRes\n",
    "# graph\n",
    "pValue.classic <- score(achyKS)\n",
    "pValue.elim <- score(achyElim)[names(pValue.classic)]\n",
    "gstat <- termStat(achyGOdata, names(pValue.classic))\n",
    "gSize <- gstat$Annotated / max(gstat$Annotated) * 4\n",
    "#gCol <- colMap(gstat$Significant)\n",
    "plot(pValue.classic, pValue.elim, xlab = \"p-value classic\", ylab = \"p-value elim\",\n",
    "    pch = 19, cex = gSize)\n",
    "#\n",
    "}\n"
   ]
  },
  {
   "cell_type": "code",
   "execution_count": null,
   "metadata": {},
   "outputs": [],
   "source": []
  },
  {
   "cell_type": "code",
   "execution_count": 13,
   "metadata": {},
   "outputs": [],
   "source": [
    "sel_achy <- all_ann %>%\n",
    "filter(family == species_name) %>%\n",
    "filter(ps == \"yes\") %>%\n",
    "select(3) %>%\n",
    "as.matrix %>%\n",
    "as.vector"
   ]
  }
 ],
 "metadata": {
  "kernelspec": {
   "display_name": "R",
   "language": "R",
   "name": "ir"
  },
  "language_info": {
   "codemirror_mode": "r",
   "file_extension": ".r",
   "mimetype": "text/x-r-source",
   "name": "R",
   "pygments_lexer": "r",
   "version": "3.6.1"
  }
 },
 "nbformat": 4,
 "nbformat_minor": 4
}
