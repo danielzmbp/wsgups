{
 "cells": [
  {
   "cell_type": "code",
   "execution_count": 56,
   "metadata": {},
   "outputs": [],
   "source": [
    "import pandas as pd\n",
    "import glob"
   ]
  },
  {
   "cell_type": "code",
   "execution_count": 57,
   "metadata": {},
   "outputs": [],
   "source": [
    "species = pd.read_csv(\"gene_species_assoc.csv\",usecols=[\"species\",\"children\"])"
   ]
  },
  {
   "cell_type": "code",
   "execution_count": 58,
   "metadata": {},
   "outputs": [],
   "source": [
    "ann = pd.read_csv(\"all_ann.csv\",usecols=[\"ps\",\"protein_accession\"]).drop_duplicates()"
   ]
  },
  {
   "cell_type": "code",
   "execution_count": 59,
   "metadata": {},
   "outputs": [],
   "source": [
    "stu=ann[ann[\"ps\"]==1].drop(\"ps\",axis=1)"
   ]
  },
  {
   "cell_type": "code",
   "execution_count": 60,
   "metadata": {},
   "outputs": [],
   "source": [
    "pop = ann.drop(\"ps\",axis=1)"
   ]
  },
  {
   "cell_type": "code",
   "execution_count": 62,
   "metadata": {},
   "outputs": [],
   "source": [
    "for i in species.species.unique():\n",
    "    genes = species[species[\"species\"]== i]\n",
    "    stu[stu[\"protein_accession\"].isin(genes[\"children\"])].to_csv(\"goatools/\"+ i + \"_stu.txt\",header=False,index=False)\n",
    "    pop[pop[\"protein_accession\"].isin(genes[\"children\"])].to_csv(\"goatools/\"+ i + \"_pop.txt\",header=False,index=False)"
   ]
  },
  {
   "cell_type": "code",
   "execution_count": 63,
   "metadata": {},
   "outputs": [],
   "source": [
    "assoc = pd.read_csv(\"all_ann.csv\",usecols=[\"protein_accession\",\"go\"])"
   ]
  },
  {
   "cell_type": "code",
   "execution_count": 64,
   "metadata": {},
   "outputs": [],
   "source": [
    "assoc.go.replace(\",\",\";\",inplace=True)"
   ]
  },
  {
   "cell_type": "code",
   "execution_count": 65,
   "metadata": {},
   "outputs": [],
   "source": [
    "assoc.to_csv(\"associations.txt\",header=False,index=False,sep=\"\\t\")"
   ]
  },
  {
   "cell_type": "markdown",
   "metadata": {},
   "source": [
    "`wget http://geneontology.org/ontology/go-basic.obo`\n",
    "\n",
    "`for i j in *.txt; do find_enrichment.py $j $i ../associations.txt --obo ../go-basic.obo --outfile $i.tsv; done`"
   ]
  },
  {
   "cell_type": "code",
   "execution_count": null,
   "metadata": {},
   "outputs": [],
   "source": []
  }
 ],
 "metadata": {
  "kernelspec": {
   "display_name": "Python 3",
   "language": "python",
   "name": "python3"
  },
  "language_info": {
   "codemirror_mode": {
    "name": "ipython",
    "version": 3
   },
   "file_extension": ".py",
   "mimetype": "text/x-python",
   "name": "python",
   "nbconvert_exporter": "python",
   "pygments_lexer": "ipython3",
   "version": "3.8.6"
  }
 },
 "nbformat": 4,
 "nbformat_minor": 4
}
